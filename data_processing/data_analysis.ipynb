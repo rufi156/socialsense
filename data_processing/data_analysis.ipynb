{
 "cells": [
  {
   "cell_type": "code",
   "execution_count": null,
   "id": "d06920ea",
   "metadata": {},
   "outputs": [],
   "source": [
    "import os\n",
    "import pandas as pd\n",
    "import torch\n",
    "from torch.utils.data import Dataset, DataLoader\n",
    "from torchvision import transforms\n",
    "from PIL import Image\n",
    "from pathlib import Path\n",
    "import numpy as np\n",
    "from sklearn.model_selection import train_test_split\n",
    "import random\n",
    "\n",
    "from data_processing import ImageLabelDataset,DualImageDataset,create_dataloaders,create_crossvalidation_loaders\n",
    "\n",
    "def set_seed(seed):\n",
    "    random.seed(seed)\n",
    "    np.random.seed(seed)\n",
    "    torch.manual_seed(seed)\n",
    "    if torch.cuda.is_available():\n",
    "        torch.cuda.manual_seed_all(seed)\n",
    "        torch.backends.cudnn.deterministic = True  # Enforce deterministic algorithms\n",
    "        torch.backends.cudnn.benchmark = False     # Disable benchmark for reproducibility\n",
    "\n",
    "    os.environ['PYTHONHASHSEED'] = str(seed)       # Seed Python hashing, which can affect ordering\n",
    "set_seed(42)"
   ]
  },
  {
   "cell_type": "code",
   "execution_count": 2,
   "id": "e5f5c8f6",
   "metadata": {},
   "outputs": [],
   "source": [
    "df = pd.read_pickle(\"../data/raw_all_data.pkl\")"
   ]
  },
  {
   "cell_type": "code",
   "execution_count": 3,
   "id": "b520f83a",
   "metadata": {},
   "outputs": [],
   "source": [
    "import pandas as pd\n",
    "import scipy.stats as stats\n",
    "from statsmodels.stats.multitest import multipletests\n",
    "import itertools\n",
    "import statsmodels.api as sm\n",
    "from statsmodels.formula.api import ols\n",
    "\n",
    "# Create mean score column (if needed for composite analysis)\n",
    "df['mean_score'] = df.iloc[:, :9].mean(axis=1)"
   ]
  },
  {
   "cell_type": "code",
   "execution_count": 13,
   "id": "c7d0eb99",
   "metadata": {},
   "outputs": [],
   "source": [
    "import scipy.stats as stats\n",
    "from statsmodels.stats.multitest import multipletests\n",
    "from statsmodels.formula.api import ols\n",
    "import statsmodels.api as sm\n",
    "\n",
    "task_columns = df.iloc[:, :9].columns.tolist()\n",
    "\n",
    "def safe_kruskal(*groups):\n",
    "    \"\"\"Handle edge cases for Kruskal-Wallis test\"\"\"\n",
    "    # Remove groups with <2 observations\n",
    "    groups = [g for g in groups if len(g) >= 2]\n",
    "    if len(groups) < 2:\n",
    "        return None, None\n",
    "    \n",
    "    # Check for identical values\n",
    "    if all(np.allclose(g, g[0]) for g in groups):\n",
    "        return None, None\n",
    "    \n",
    "    try:\n",
    "        return stats.kruskal(*groups)\n",
    "    except (ValueError, TypeError):\n",
    "        return None, None\n",
    "\n",
    "# 1. Test domain differences per robot\n",
    "domain_results = {}\n",
    "for robot in df['robot'].unique():\n",
    "    robot_df = df[df['robot'] == robot]\n",
    "    robot_task_results = {}\n",
    "    \n",
    "    for task in task_columns:\n",
    "        groups = [robot_df[robot_df['domain'] == domain][task].values \n",
    "                 for domain in robot_df['domain'].unique()]\n",
    "        h_stat, p_val = safe_kruskal(*groups)\n",
    "        if p_val is not None:\n",
    "            robot_task_results[task] = p_val\n",
    "    \n",
    "    if robot_task_results:\n",
    "        tasks, pvals = zip(*robot_task_results.items())\n",
    "        _, corrected_pvals, _, _ = multipletests(pvals, method='fdr_bh')\n",
    "        domain_results[robot] = dict(zip(tasks, corrected_pvals))\n",
    "    else:\n",
    "        domain_results[robot] = {}\n",
    "\n",
    "# 2. Test robot differences per domain\n",
    "robot_results = {}\n",
    "for domain in df['domain'].unique():\n",
    "    domain_df = df[df['domain'] == domain]\n",
    "    domain_task_results = {}\n",
    "    \n",
    "    for task in task_columns:\n",
    "        groups = [domain_df[domain_df['robot'] == robot][task].values\n",
    "                 for robot in domain_df['robot'].unique()]\n",
    "        h_stat, p_val = safe_kruskal(*groups)\n",
    "        if p_val is not None:\n",
    "            domain_task_results[task] = p_val\n",
    "    \n",
    "    if domain_task_results:\n",
    "        tasks, pvals = zip(*domain_task_results.items())\n",
    "        _, corrected_pvals, _, _ = multipletests(pvals, method='fdr_bh')\n",
    "        robot_results[domain] = dict(zip(tasks, corrected_pvals))\n",
    "    else:\n",
    "        robot_results[domain] = {}\n",
    "\n",
    "# 3. Test interaction effects\n",
    "interaction_results = {}\n",
    "for task in task_columns:\n",
    "    # Skip tasks with no variation\n",
    "    if df[task].nunique() < 2:\n",
    "        interaction_results[task] = None\n",
    "        continue\n",
    "        \n",
    "    try:\n",
    "        formula = f'Q(\"{task}\") ~ C(robot) + C(domain) + C(robot):C(domain)'\n",
    "        model = ols(formula, data=df).fit()\n",
    "        anova_table = sm.stats.anova_lm(model, typ=2)\n",
    "        \n",
    "        if 'C(robot):C(domain)' in anova_table.index:\n",
    "            p_val = anova_table.loc['C(robot):C(domain)', 'PR(>F)']\n",
    "        else:\n",
    "            p_val = None\n",
    "    except Exception:\n",
    "        p_val = None\n",
    "    \n",
    "    interaction_results[task] = p_val\n",
    "\n"
   ]
  },
  {
   "cell_type": "code",
   "execution_count": 14,
   "id": "29ea68c5",
   "metadata": {},
   "outputs": [
    {
     "name": "stdout",
     "output_type": "stream",
     "text": [
      "Statistically significant robot x domain interaction in 7/9 tasks\n"
     ]
    }
   ],
   "source": [
    "sig_interaction_count = sum(\n",
    "    1 for p in interaction_results.values() if p is not None and p < 0.05\n",
    ")\n",
    "total_tasks = len([p for p in interaction_results.values() if p is not None])\n",
    "print(f\"Statistically significant robot x domain interaction in {sig_interaction_count}/{total_tasks} tasks\")"
   ]
  },
  {
   "cell_type": "code",
   "execution_count": 16,
   "id": "882a3cff",
   "metadata": {},
   "outputs": [
    {
     "name": "stdout",
     "output_type": "stream",
     "text": [
      "Significant robot x domain interaction in task: Vaccum Cleaning (p=0.0112)\n",
      "Significant robot x domain interaction in task: Mopping the Floor (p=0.0003)\n",
      "Significant robot x domain interaction in task: Carry Warm Food (p=0.0192)\n",
      "NOT Significant robot x domain interaction in task: Carry Cold Food (p=0.1900)\n",
      "Significant robot x domain interaction in task: Carry Drinks (p=0.0189)\n",
      "Significant robot x domain interaction in task: Carry Small Objects (p=0.0000)\n",
      "Significant robot x domain interaction in task: Carry Large Objects (p=0.0284)\n",
      "Significant robot x domain interaction in task: Cleaning (p=0.0006)\n",
      "NOT Significant robot x domain interaction in task: Starting a conversation (p=0.1398)\n"
     ]
    }
   ],
   "source": [
    "for task, p in interaction_results.items():\n",
    "    if p is not None and p < 0.05:\n",
    "        print(f\"Significant robot x domain interaction in task: {task} (p={p:.4f})\")\n",
    "    else:\n",
    "        print(f\"NOT Significant robot x domain interaction in task: {task} (p={p:.4f})\")"
   ]
  },
  {
   "cell_type": "code",
   "execution_count": 12,
   "id": "1bf69af7",
   "metadata": {},
   "outputs": [
    {
     "name": "stdout",
     "output_type": "stream",
     "text": [
      "For BigOffice-2, statistically significant differences between robots in 2/9 tasks\n",
      "For BigOffice-3, statistically significant differences between robots in 0/9 tasks\n",
      "For Hallway, statistically significant differences between robots in 0/9 tasks\n",
      "For MeetingRoom, statistically significant differences between robots in 4/9 tasks\n",
      "For SmallOffice, statistically significant differences between robots in 5/9 tasks\n",
      "For Home, statistically significant differences between robots in 4/9 tasks\n"
     ]
    }
   ],
   "source": [
    "# robot_results structure: {domain (room): {task: p-value}}\n",
    "\n",
    "significant_robot_counts = {}\n",
    "\n",
    "for domain, task_pvals in robot_results.items():\n",
    "    sig_count = sum(1 for p in task_pvals.values() if p < 0.05)\n",
    "    total = len(task_pvals)\n",
    "    print(f\"For {domain}, statistically significant differences between robots in {sig_count}/{total} tasks\")\n",
    "    significant_robot_counts[domain] = (sig_count, total)\n"
   ]
  },
  {
   "cell_type": "code",
   "execution_count": 11,
   "id": "66b74b46",
   "metadata": {},
   "outputs": [
    {
     "name": "stdout",
     "output_type": "stream",
     "text": [
      "For NAO, statistically significant differences between rooms in 9/9 tasks\n",
      "For Pepper, statistically significant differences between rooms in 9/9 tasks\n",
      "For PR2, statistically significant differences between rooms in 9/9 tasks\n"
     ]
    }
   ],
   "source": [
    "# domain_results structure: {robot: {task: p-value}}\n",
    "\n",
    "significant_domain_counts = {}\n",
    "\n",
    "for robot, task_pvals in domain_results.items():\n",
    "    sig_count = sum(1 for p in task_pvals.values() if p < 0.05)\n",
    "    total = len(task_pvals)\n",
    "    print(f\"For {robot}, statistically significant differences between rooms in {sig_count}/{total} tasks\")\n",
    "    significant_domain_counts[robot] = (sig_count, total)\n"
   ]
  },
  {
   "cell_type": "code",
   "execution_count": null,
   "id": "e58171fe",
   "metadata": {},
   "outputs": [
    {
     "data": {
      "text/plain": [
       "['BigOffice-2', 'BigOffice-3', 'Hallway', 'Home', 'MeetingRoom', 'SmallOffice']"
      ]
     },
     "execution_count": 21,
     "metadata": {},
     "output_type": "execute_result"
    }
   ],
   "source": []
  },
  {
   "cell_type": "code",
   "execution_count": null,
   "id": "9c108bfb",
   "metadata": {},
   "outputs": [],
   "source": []
  },
  {
   "cell_type": "code",
   "execution_count": null,
   "id": "bc1da6ef",
   "metadata": {},
   "outputs": [
    {
     "name": "stdout",
     "output_type": "stream",
     "text": [
      "\\begin{tabular}{lcccccc}\n",
      "\\toprule\n",
      "Task & Home & BigOffice-2 & BigOffice-3 & Hallway & MeetingRoom & SmallOffice \\\\ \\midrule\n",
      "Vaccum Cleaning & \\textbf{0.000} & 0.493 & 0.351 & 0.299 & \\textbf{0.002} & 0.585 \\\\\n",
      "Mopping the Floor & \\textbf{0.001} & 0.341 & 0.351 & 0.489 & \\textbf{0.002} & 0.585 \\\\\n",
      "Carry Warm Food & \\textbf{0.021} & 0.493 & 0.461 & 0.533 & 0.161 & \\textbf{0.018} \\\\\n",
      "Carry Cold Food & 0.140 & 0.341 & 0.351 & 0.719 & 0.542 & \\textbf{0.012} \\\\\n",
      "Carry Drinks & 0.062 & 0.493 & 0.351 & 0.814 & 0.471 & \\textbf{0.005} \\\\\n",
      "Carry Small Objects & \\textbf{0.012} & \\textbf{0.006} & 0.054 & 0.533 & \\textbf{0.023} & \\textbf{0.001} \\\\\n",
      "Carry Large Objects & 0.062 & 0.341 & 0.141 & 0.730 & \\textbf{0.001} & 0.153 \\\\\n",
      "Cleaning & 0.219 & \\textbf{0.001} & 0.054 & 0.299 & 0.542 & \\textbf{0.000} \\\\\n",
      "Starting a conversation & 0.776 & 0.575 & 0.191 & 0.143 & 0.471 & 0.585 \\\\\n",
      "\\bottomrule\n",
      "\\end{tabular}\n"
     ]
    }
   ],
   "source": [
    "alpha = 0.05  # significance threshold\n",
    "\n",
    "# Get all tasks and all domains\n",
    "tasks = task_columns  # or sorted(list of task columns)\n",
    "domains = ['Home', 'BigOffice-2', 'BigOffice-3', 'Hallway', 'MeetingRoom', 'SmallOffice']\n",
    "\n",
    "# Build LaTeX table\n",
    "header = ' & ' + ' & '.join(domains) + ' \\\\\\\\ \\\\midrule\\n'\n",
    "rows = []\n",
    "for task in tasks:\n",
    "    row = [task]\n",
    "    for domain in domains:\n",
    "        p = robot_results[domain].get(task, None)\n",
    "        if p is None:\n",
    "            cell = '--'\n",
    "        elif p < alpha:\n",
    "            cell = '\\\\textbf{{{:.3f}}}'.format(p)\n",
    "        else:\n",
    "            cell = '{:.3f}'.format(p)\n",
    "        row.append(cell)\n",
    "    rows.append(' & '.join(row) + ' \\\\\\\\')\n",
    "\n",
    "latex_table = '\\\\begin{tabular}{l' + 'c' * len(domains) + '}\\n'\n",
    "latex_table += '\\\\toprule\\nTask' + ' & ' + ' & '.join(domains) + ' \\\\\\\\ \\\\midrule\\n'\n",
    "latex_table += '\\n'.join(rows)\n",
    "latex_table += '\\n\\\\bottomrule\\n\\\\end{tabular}'\n",
    "print(latex_table)"
   ]
  },
  {
   "cell_type": "code",
   "execution_count": 19,
   "id": "624436f6",
   "metadata": {},
   "outputs": [
    {
     "name": "stdout",
     "output_type": "stream",
     "text": [
      "\\begin{tabular}{lccc}\n",
      "\\toprule\n",
      "Task & NAO & PR2 & Pepper \\\\ \\midrule\n",
      "Vaccum Cleaning & \\textbf{0.000} & \\textbf{0.000} & \\textbf{0.000} \\\\\n",
      "Mopping the Floor & \\textbf{0.000} & \\textbf{0.000} & \\textbf{0.000} \\\\\n",
      "Carry Warm Food & \\textbf{0.000} & \\textbf{0.000} & \\textbf{0.000} \\\\\n",
      "Carry Cold Food & \\textbf{0.000} & \\textbf{0.000} & \\textbf{0.000} \\\\\n",
      "Carry Drinks & \\textbf{0.000} & \\textbf{0.000} & \\textbf{0.000} \\\\\n",
      "Carry Small Objects & \\textbf{0.000} & \\textbf{0.000} & \\textbf{0.000} \\\\\n",
      "Carry Large Objects & \\textbf{0.000} & \\textbf{0.000} & \\textbf{0.000} \\\\\n",
      "Cleaning & \\textbf{0.000} & \\textbf{0.000} & \\textbf{0.000} \\\\\n",
      "Starting a conversation & \\textbf{0.000} & \\textbf{0.000} & \\textbf{0.000} \\\\\n",
      "\\bottomrule\n",
      "\\end{tabular}\n"
     ]
    }
   ],
   "source": [
    "robots = sorted(domain_results.keys())\n",
    "\n",
    "header = ' & ' + ' & '.join(robots) + ' \\\\\\\\ \\\\midrule\\n'\n",
    "rows = []\n",
    "for task in tasks:\n",
    "    row = [task]\n",
    "    for robot in robots:\n",
    "        p = domain_results[robot].get(task, None)\n",
    "        if p is None:\n",
    "            cell = '--'\n",
    "        elif p < alpha:\n",
    "            cell = '\\\\textbf{{{:.3f}}}'.format(p)\n",
    "        else:\n",
    "            cell = '{:.3f}'.format(p)\n",
    "        row.append(cell)\n",
    "    rows.append(' & '.join(row) + ' \\\\\\\\')\n",
    "\n",
    "latex_table_domains = '\\\\begin{tabular}{l' + 'c' * len(robots) + '}\\n'\n",
    "latex_table_domains += '\\\\toprule\\nTask' + ' & ' + ' & '.join(robots) + ' \\\\\\\\ \\\\midrule\\n'\n",
    "latex_table_domains += '\\n'.join(rows)\n",
    "latex_table_domains += '\\n\\\\bottomrule\\n\\\\end{tabular}'\n",
    "print(latex_table_domains)\n"
   ]
  },
  {
   "cell_type": "code",
   "execution_count": null,
   "id": "ecb9bf71",
   "metadata": {},
   "outputs": [],
   "source": [
    "import seaborn as sns\n",
    "import matplotlib.pyplot as plt\n",
    "sns.set_style(\"whitegrid\")\n",
    "\n",
    "entries_per_image = raw_df.groupby(['robot', 'domain', 'image_ref']).size().reset_index(name='num_entries')\n",
    "domain_counts = entries_per_image.groupby(['domain', 'num_entries']).size().reset_index(name='count')\n",
    "\n",
    "plt.figure(figsize=(12, 5))\n",
    "ax = sns.barplot(\n",
    "    data=domain_counts,\n",
    "    x='num_entries',\n",
    "    y='count',\n",
    "    hue='domain',\n",
    "    hue_order = ['Home', 'BigOffice-2', 'BigOffice-3', 'Hallway', 'MeetingRoom',\n",
    "       'SmallOffice'],\n",
    "    palette='viridis'\n",
    ")\n",
    "for p in ax.patches:\n",
    "    height = p.get_height()\n",
    "    if height > 0:\n",
    "        ax.text(\n",
    "            p.get_x() + p.get_width() / 2.,\n",
    "            height + 0.5,  # Slightly above the bar\n",
    "            int(height),\n",
    "            ha='center',\n",
    "            va='bottom',\n",
    "            fontsize=11\n",
    "        )\n",
    "ax.set_ylim(0, domain_counts['count'].sum())\n",
    "\n",
    "plt.xlabel('Number of Entries per Image')\n",
    "plt.ylabel('Number of Images')\n",
    "plt.title('Distribution of Number of Entries per Image by Domain')\n",
    "plt.tight_layout()\n",
    "plt.show()\n"
   ]
  },
  {
   "cell_type": "code",
   "execution_count": null,
   "id": "80f949a4",
   "metadata": {},
   "outputs": [],
   "source": [
    "import matplotlib.pyplot as plt\n",
    "import seaborn as sns\n",
    "\n",
    "duplicated_rows = raw_df.duplicated(keep=False)\n",
    "duplicates_per_index = duplicated_rows.groupby([raw_df['robot'], raw_df['domain'], raw_df['image_ref']]).sum()\n",
    "duplicates_per_index = duplicates_per_index.apply(lambda x: max(x - 1, 0))\n",
    "\n",
    "duplicates_per_index = duplicates_per_index.reset_index(name='num_duplicates')\n",
    "domain_counts = duplicates_per_index.groupby(['domain', 'num_duplicates']).size().reset_index(name='count')\n",
    "\n",
    "\n",
    "plt.figure(figsize=(12, 6))\n",
    "ax = sns.barplot(\n",
    "    data=domain_counts,\n",
    "    x='num_duplicates',\n",
    "    y='count',\n",
    "    hue='domain',\n",
    "    hue_order = ['Home', 'BigOffice-2', 'BigOffice-3', 'Hallway', 'MeetingRoom',\n",
    "       'SmallOffice'],\n",
    "    palette='viridis'\n",
    ")\n",
    "\n",
    "for p in ax.patches:\n",
    "    height = p.get_height()\n",
    "    if height > 0:\n",
    "        ax.text(\n",
    "            p.get_x() + p.get_width() / 2.,\n",
    "            height + 0.5,\n",
    "            int(height),\n",
    "            ha='center',\n",
    "            va='bottom',\n",
    "            fontsize=11\n",
    "        )\n",
    "\n",
    "# Set y-axis max to total number of duplicates\n",
    "ax.set_ylim(0, domain_counts['count'].sum())\n",
    "\n",
    "plt.xlabel('Number of Duplicates per Image')\n",
    "plt.ylabel('Number of Images')\n",
    "plt.title('Distribution of Number of Duplicates per Image by Domain')\n",
    "plt.tight_layout()\n",
    "plt.show()"
   ]
  }
 ],
 "metadata": {
  "kernelspec": {
   "display_name": "socialsense",
   "language": "python",
   "name": "python3"
  },
  "language_info": {
   "codemirror_mode": {
    "name": "ipython",
    "version": 3
   },
   "file_extension": ".py",
   "mimetype": "text/x-python",
   "name": "python",
   "nbconvert_exporter": "python",
   "pygments_lexer": "ipython3",
   "version": "3.12.7"
  }
 },
 "nbformat": 4,
 "nbformat_minor": 5
}
