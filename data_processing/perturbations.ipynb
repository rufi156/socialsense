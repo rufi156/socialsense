{
 "cells": [
  {
   "cell_type": "code",
   "execution_count": null,
   "id": "189863d8",
   "metadata": {},
   "outputs": [],
   "source": [
    "import pandas as pd\n",
    "import os\n",
    "from PIL import Image, ImageDraw\n",
    "import random\n",
    "import math\n",
    "from tqdm import tqdm"
   ]
  },
  {
   "cell_type": "code",
   "execution_count": null,
   "id": "afae5f15",
   "metadata": {},
   "outputs": [],
   "source": [
    "\n",
    "\n",
    "def draw_random_elliptical_blob(draw, center, avg_radius_x, avg_radius_y, irregularity, spikiness, num_points, color):\n",
    "    cx, cy = center\n",
    "    angle = 0\n",
    "    points = []\n",
    "    for i in range(num_points):\n",
    "        angle_step = 2 * math.pi / num_points\n",
    "        # Reduce angular irregularity for more even spacing\n",
    "        angle += angle_step + random.uniform(-angle_step * irregularity, angle_step * irregularity)\n",
    "        # For vertical radius, reduce spikiness to avoid thin tops/bottoms\n",
    "        radius_x = avg_radius_x + random.uniform(-avg_radius_x * spikiness, avg_radius_x * spikiness)\n",
    "        radius_y = avg_radius_y + random.uniform(-avg_radius_y * (spikiness * 0.4), avg_radius_y * (spikiness * 0.4))\n",
    "        x = cx + math.cos(angle) * radius_x\n",
    "        y = cy + math.sin(angle) * radius_y\n",
    "        points.append((x, y))\n",
    "    draw.polygon(points, fill=color)\n",
    "\n",
    "def blobs_on_image(input_path, output_path, color, num_blobs=7):\n",
    "    image = Image.open(input_path).convert(\"RGBA\")\n",
    "    draw = ImageDraw.Draw(image, 'RGBA')\n",
    "    w, h = image.size\n",
    "    for _ in range(num_blobs):\n",
    "        center = (random.randint(0, w), random.randint(0, h))\n",
    "        avg_radius_x = random.randint(30, 55)            # Moderate horizontal radius\n",
    "        avg_radius_y = random.randint(80, 150)           # Taller vertical radius\n",
    "        irregularity = random.uniform(0.15, 0.3)          # Moderate angular variation\n",
    "        spikiness = random.uniform(0.2, 0.35)             # Moderate radius variation\n",
    "        num_points = random.randint(20, 30)               # More points for smooth, round shapes\n",
    "        draw_random_elliptical_blob(draw, center, avg_radius_x, avg_radius_y,\n",
    "                                    irregularity, spikiness, num_points, color)\n",
    "    image.save(output_path, \"PNG\")\n",
    "\n",
    "\n"
   ]
  },
  {
   "cell_type": "code",
   "execution_count": null,
   "id": "95befdf9",
   "metadata": {},
   "outputs": [],
   "source": [
    "def batch_process_images():\n",
    "    test_df = pd.read_pickle(\"../data/pepper_data_test_equal.pkl\")\n",
    "    image_paths = test_df['image_path_env'].tolist()\n",
    "    output_dir = \"../data/perturbations/environment\"\n",
    "    os.makedirs(output_dir, exist_ok=True)\n",
    "\n",
    "    imagenet_mean = (0.485, 0.456, 0.406)\n",
    "    blob_color = tuple(int(x * 255) for x in imagenet_mean) + (255,)\n",
    "\n",
    "    for img_path in tqdm(image_paths):\n",
    "        # Extract file name and compose output path\n",
    "        file_name = os.path.basename(img_path)\n",
    "        output_path = os.path.join(output_dir, file_name)\n",
    "        blobs_on_image(\n",
    "            input_path=img_path,\n",
    "            output_path=output_path,\n",
    "            color=blob_color,\n",
    "            num_blobs=25\n",
    "        )\n",
    "\n",
    "# if __name__ == \"__main__\":\n",
    "batch_process_images()"
   ]
  },
  {
   "cell_type": "code",
   "execution_count": null,
   "id": "135811fc",
   "metadata": {},
   "outputs": [],
   "source": []
  }
 ],
 "metadata": {
  "kernelspec": {
   "display_name": "socialsense",
   "language": "python",
   "name": "python3"
  },
  "language_info": {
   "codemirror_mode": {
    "name": "ipython",
    "version": 3
   },
   "file_extension": ".py",
   "mimetype": "text/x-python",
   "name": "python",
   "nbconvert_exporter": "python",
   "pygments_lexer": "ipython3",
   "version": "3.12.7"
  }
 },
 "nbformat": 4,
 "nbformat_minor": 5
}
